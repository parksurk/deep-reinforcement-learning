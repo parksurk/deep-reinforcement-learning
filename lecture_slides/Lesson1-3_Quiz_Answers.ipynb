{
 "cells": [
  {
   "cell_type": "markdown",
   "metadata": {
    "slideshow": {
     "slide_type": "subslide"
    }
   },
   "source": [
    "### Quiz - Iterative Method \n",
    "The iterative method begins with an initial guess for the value of each state. In particular, we began by assuming that the value of each state was zero.\n",
    "\n",
    "Then, we looped over the state space and amended the estimate for the state-value function through applying successive update equations.\n",
    "\n",
    "Recall that V denotes the most recent guess for the state-value function, and the update equations are below : \n",
    "\n",
    "![](./images/1-3-2-16_dp_iterative_method_quiz_updat-equations.png)"
   ]
  },
  {
   "cell_type": "markdown",
   "metadata": {
    "slideshow": {
     "slide_type": "subslide"
    }
   },
   "source": [
    "### Quiz Question\n",
    "\n",
    "Say that the most recent guess for the state-value function is given in the figure below.\n",
    "\n",
    "![](./images/1-3-2-15_dp_iterative_method_quiz.png)\n",
    "\n",
    "Currently, the estimate for vπ(s2) is given by V(s2)=1.\n",
    "\n",
    "Say that the next step in the algorithm is to update V(s2)."
   ]
  },
  {
   "cell_type": "markdown",
   "metadata": {
    "slideshow": {
     "slide_type": "subslide"
    }
   },
   "source": [
    "What is the new value for V(s2) after applying the update step once? Select the appropriate value.\n",
    "1. -1.5\n",
    "2. -0.5\n",
    "3. 0\n",
    "4. 0.5\n",
    "5. 1.5"
   ]
  },
  {
   "cell_type": "markdown",
   "metadata": {
    "slideshow": {
     "slide_type": "notes"
    }
   },
   "source": [
    "- answer : 5\n",
    "- explanation : (1/2)(-1-1) + (1/2)(5) = 1.5"
   ]
  },
  {
   "cell_type": "markdown",
   "metadata": {
    "slideshow": {
     "slide_type": "slide"
    }
   },
   "source": [
    "## 1-3-8 : Quiz : Check Your Understanding"
   ]
  },
  {
   "cell_type": "markdown",
   "metadata": {
    "slideshow": {
     "slide_type": "subslide"
    }
   },
   "source": [
    "Match each algorithm to its appropriate description.\n",
    "\n",
    "1. Value Iteration\n",
    "2. Policy Improvement\n",
    "3. Policy Iteration\n",
    "4. (Iterative) Policy Evaluation"
   ]
  },
  {
   "cell_type": "markdown",
   "metadata": {
    "slideshow": {
     "slide_type": "subslide"
    }
   },
   "source": [
    "### QUESTION 1 OF 4\n",
    "\n",
    "Finds the optimal policy through successive rounds of evaluation and improvement."
   ]
  },
  {
   "cell_type": "markdown",
   "metadata": {
    "slideshow": {
     "slide_type": "subslide"
    }
   },
   "source": [
    "### QUESTION 2 OF 4\n",
    "\n",
    "Given a value function corresponding to a policy, proposes a better (or equal) policy."
   ]
  },
  {
   "cell_type": "markdown",
   "metadata": {
    "slideshow": {
     "slide_type": "subslide"
    }
   },
   "source": [
    "### QUESTION 3 OF 4\n",
    "\n",
    "Computes the value function corresponding to an arbitrary policy."
   ]
  },
  {
   "cell_type": "markdown",
   "metadata": {
    "slideshow": {
     "slide_type": "subslide"
    }
   },
   "source": [
    "### QUESTION 4 OF 4\n",
    "\n",
    "Finds the optimal policy through successive rounds of evaluation and improvement (where the evaluation step is stopped after a single sweep through the state space)."
   ]
  },
  {
   "cell_type": "markdown",
   "metadata": {
    "slideshow": {
     "slide_type": "notes"
    }
   },
   "source": [
    "- answer : \n",
    "    - Q 1/4 : 3. Policy Iteration\n",
    "    - Q 2/4 : 2. Policy Improvement\n",
    "    - Q 3/4 : 4. (Iterative) Policy Evaluation\n",
    "    - Q 4/4 : 1. Value Iteration"
   ]
  }
 ],
 "metadata": {
  "celltoolbar": "Slideshow",
  "kernelspec": {
   "display_name": "drlnd",
   "language": "python",
   "name": "drlnd"
  },
  "language_info": {
   "codemirror_mode": {
    "name": "ipython",
    "version": 3
   },
   "file_extension": ".py",
   "mimetype": "text/x-python",
   "name": "python",
   "nbconvert_exporter": "python",
   "pygments_lexer": "ipython3",
   "version": "3.6.7"
  }
 },
 "nbformat": 4,
 "nbformat_minor": 2
}
