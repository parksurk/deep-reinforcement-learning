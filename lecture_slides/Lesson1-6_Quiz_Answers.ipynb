{
 "cells": [
  {
   "cell_type": "markdown",
   "metadata": {
    "slideshow": {
     "slide_type": "subslide"
    }
   },
   "source": [
    "## Quiz\n",
    "\n",
    "Which of the following state or action spaces can be encoded using discrete representations?\n",
    "\n",
    "1. A hand of cards when playing Poker\n",
    "2. Force applied when grasping with a robotic arm\n",
    "3. GPS coordinates for autonomous driving\n",
    "4. Board positions for a 9x9 Go game\n",
    "5. Keys to play on a musical keyboard"
   ]
  },
  {
   "cell_type": "markdown",
   "metadata": {
    "slideshow": {
     "slide_type": "notes"
    }
   },
   "source": [
    "- answer : 1, 4, 5"
   ]
  }
 ],
 "metadata": {
  "celltoolbar": "Slideshow",
  "kernelspec": {
   "display_name": "drlnd",
   "language": "python",
   "name": "drlnd"
  },
  "language_info": {
   "codemirror_mode": {
    "name": "ipython",
    "version": 3
   },
   "file_extension": ".py",
   "mimetype": "text/x-python",
   "name": "python",
   "nbconvert_exporter": "python",
   "pygments_lexer": "ipython3",
   "version": "3.6.7"
  }
 },
 "nbformat": 4,
 "nbformat_minor": 2
}
